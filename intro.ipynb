{
  "nbformat": 4,
  "nbformat_minor": 0,
  "metadata": {
    "colab": {
      "provenance": [],
      "authorship_tag": "ABX9TyNm4gvshs8E7O1gGXLW4aKv",
      "include_colab_link": true
    },
    "kernelspec": {
      "name": "python3",
      "display_name": "Python 3"
    },
    "language_info": {
      "name": "python"
    }
  },
  "cells": [
    {
      "cell_type": "markdown",
      "metadata": {
        "id": "view-in-github",
        "colab_type": "text"
      },
      "source": [
        "<a href=\"https://colab.research.google.com/github/SaraRajeshA/test-colab/blob/main/intro.ipynb\" target=\"_parent\"><img src=\"https://colab.research.google.com/assets/colab-badge.svg\" alt=\"Open In Colab\"/></a>"
      ]
    },
    {
      "cell_type": "code",
      "execution_count": null,
      "metadata": {
        "id": "HtwI0yInbIXE",
        "colab": {
          "base_uri": "https://localhost:8080/"
        },
        "outputId": "786475ec-2000-47fb-9242-fb662dece502"
      },
      "outputs": [
        {
          "output_type": "stream",
          "name": "stdout",
          "text": [
            "HelloWorld!\n"
          ]
        }
      ],
      "source": [
        "print('HelloWorld!')"
      ]
    },
    {
      "cell_type": "code",
      "source": [
        "print('Connecting Github with Colaboratory!')"
      ],
      "metadata": {
        "colab": {
          "base_uri": "https://localhost:8080/"
        },
        "id": "Tk-a2cPYfGAc",
        "outputId": "8cc38260-c927-4757-99e6-1953fa9acd50"
      },
      "execution_count": null,
      "outputs": [
        {
          "output_type": "stream",
          "name": "stdout",
          "text": [
            "Connecting Github with Colaboratory!\n"
          ]
        }
      ]
    },
    {
      "cell_type": "code",
      "source": [
        "print('This is a github statement that should refelect in Colab')"
      ],
      "metadata": {
        "colab": {
          "base_uri": "https://localhost:8080/"
        },
        "id": "kIhQr1Oxg5mM",
        "outputId": "a84199a9-9559-4c4c-e928-60e9e1132e11"
      },
      "execution_count": null,
      "outputs": [
        {
          "output_type": "stream",
          "name": "stdout",
          "text": [
            "This is a github statement that should refelect in Colab\n"
          ]
        }
      ]
    }
  ]
}